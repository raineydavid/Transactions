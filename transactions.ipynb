{
  "nbformat": 4,
  "nbformat_minor": 0,
  "metadata": {
    "colab": {
      "name": "transactions.ipynb",
      "provenance": [],
      "toc_visible": true,
      "authorship_tag": "ABX9TyM/C/blYL6/JUnj8aBlieJD",
      "include_colab_link": true
    },
    "kernelspec": {
      "name": "python3",
      "display_name": "Python 3"
    }
  },
  "cells": [
    {
      "cell_type": "markdown",
      "metadata": {
        "id": "view-in-github",
        "colab_type": "text"
      },
      "source": [
        "<a href=\"https://colab.research.google.com/github/raineydavid/Transactions/blob/raineydavid-patch-1/transactions.ipynb\" target=\"_parent\"><img src=\"https://colab.research.google.com/assets/colab-badge.svg\" alt=\"Open In Colab\"/></a>"
      ]
    },
    {
      "cell_type": "markdown",
      "metadata": {
        "id": "JAAjBeqhTv8d",
        "colab_type": "text"
      },
      "source": [
        "# Cummulative Transactions \n"
      ]
    },
    {
      "cell_type": "code",
      "metadata": {
        "id": "t8RUhUh-ZXNk",
        "colab_type": "code",
        "colab": {}
      },
      "source": [
        "%matplotlib inline"
      ],
      "execution_count": 0,
      "outputs": []
    },
    {
      "cell_type": "code",
      "metadata": {
        "id": "ZxDswZNhU4F0",
        "colab_type": "code",
        "colab": {}
      },
      "source": [
        "#@title Fields\n",
        "#@markdown Forms support many types of fields.\n",
        "\n",
        "no_type_checking = ''  #@param\n",
        "summary_column = 'Supplier'  #@param {type: \"string\"}\n",
        "columns ='Date,Supplier,Transaction value'  #@param {type: \"string\"}\n",
        "transactions_filename = \"https://raw.githubusercontent.com/raineydavid/Transactions/master/25000_spend_dataset.csv\" #@param [\"data/25000_spend_dataset.csv\",\"data.json\"] {allow-input: true}\n",
        "form_title =\"The seriously most expensed suppliers from April 2016 to Feb 2020\"\n",
        "#@markdown ---\n"
      ],
      "execution_count": 0,
      "outputs": []
    },
    {
      "cell_type": "code",
      "metadata": {
        "id": "_bdGGHFRXR92",
        "colab_type": "code",
        "colab": {}
      },
      "source": [
        "def stringToList(string, separator=\" \"):\n",
        "    listRes = list(string.split(separator))\n",
        "    return listRes"
      ],
      "execution_count": 0,
      "outputs": []
    },
    {
      "cell_type": "code",
      "metadata": {
        "id": "lC_19JNFXg0R",
        "colab_type": "code",
        "colab": {
          "base_uri": "https://localhost:8080/",
          "height": 34
        },
        "outputId": "b83823fe-932e-4dcf-fccb-32a1f2403f5b"
      },
      "source": [
        "input_columns_list=stringToList(columns,\",\")\n",
        "input_columns_list"
      ],
      "execution_count": 35,
      "outputs": [
        {
          "output_type": "execute_result",
          "data": {
            "text/plain": [
              "['Date', 'Supplier', 'Transaction value']"
            ]
          },
          "metadata": {
            "tags": []
          },
          "execution_count": 35
        }
      ]
    },
    {
      "cell_type": "code",
      "metadata": {
        "id": "V5NvSRdFcrJa",
        "colab_type": "code",
        "colab": {
          "base_uri": "https://localhost:8080/",
          "height": 34
        },
        "outputId": "9ee2a797-7bc3-4feb-959c-73ac3179617b"
      },
      "source": [
        "print(transactions_filename)"
      ],
      "execution_count": 29,
      "outputs": [
        {
          "output_type": "stream",
          "text": [
            "https://raw.githubusercontent.com/raineydavid/Transactions/25000_spend_dataset.csv\n"
          ],
          "name": "stdout"
        }
      ]
    },
    {
      "cell_type": "code",
      "metadata": {
        "id": "JagTR_M9dQ5Q",
        "colab_type": "code",
        "colab": {
          "base_uri": "https://localhost:8080/",
          "height": 195
        },
        "outputId": "ffd182c4-8d00-49e0-a560-8f4c7f38e400"
      },
      "source": [
        "data.head(5)"
      ],
      "execution_count": 32,
      "outputs": [
        {
          "output_type": "execute_result",
          "data": {
            "text/html": [
              "<div>\n",
              "<style scoped>\n",
              "    .dataframe tbody tr th:only-of-type {\n",
              "        vertical-align: middle;\n",
              "    }\n",
              "\n",
              "    .dataframe tbody tr th {\n",
              "        vertical-align: top;\n",
              "    }\n",
              "\n",
              "    .dataframe thead th {\n",
              "        text-align: right;\n",
              "    }\n",
              "</style>\n",
              "<table border=\"1\" class=\"dataframe\">\n",
              "  <thead>\n",
              "    <tr style=\"text-align: right;\">\n",
              "      <th></th>\n",
              "      <th>Date</th>\n",
              "      <th>Supplier</th>\n",
              "      <th>Description</th>\n",
              "      <th>Transaction value</th>\n",
              "    </tr>\n",
              "  </thead>\n",
              "  <tbody>\n",
              "    <tr>\n",
              "      <th>0</th>\n",
              "      <td>21/04/2016</td>\n",
              "      <td>M &amp; J Ballantyne Ltd</td>\n",
              "      <td>George IV Bridge Work</td>\n",
              "      <td>35098.0</td>\n",
              "    </tr>\n",
              "    <tr>\n",
              "      <th>1</th>\n",
              "      <td>26/04/2016</td>\n",
              "      <td>Private Sale</td>\n",
              "      <td>Literary &amp; Archival Items</td>\n",
              "      <td>30000.0</td>\n",
              "    </tr>\n",
              "    <tr>\n",
              "      <th>2</th>\n",
              "      <td>30/04/2016</td>\n",
              "      <td>City Of Edinburgh Council</td>\n",
              "      <td>Non Domestic Rates</td>\n",
              "      <td>40800.0</td>\n",
              "    </tr>\n",
              "    <tr>\n",
              "      <th>3</th>\n",
              "      <td>09/05/2016</td>\n",
              "      <td>A McGillivray</td>\n",
              "      <td>Causewayside Refurbishment</td>\n",
              "      <td>53690.0</td>\n",
              "    </tr>\n",
              "    <tr>\n",
              "      <th>4</th>\n",
              "      <td>09/05/2016</td>\n",
              "      <td>Computacenter Uk</td>\n",
              "      <td>Kelvin Hall</td>\n",
              "      <td>72835.0</td>\n",
              "    </tr>\n",
              "  </tbody>\n",
              "</table>\n",
              "</div>"
            ],
            "text/plain": [
              "         Date  ... Transaction value\n",
              "0  21/04/2016  ...           35098.0\n",
              "1  26/04/2016  ...           30000.0\n",
              "2  30/04/2016  ...           40800.0\n",
              "3  09/05/2016  ...           53690.0\n",
              "4  09/05/2016  ...           72835.0\n",
              "\n",
              "[5 rows x 4 columns]"
            ]
          },
          "metadata": {
            "tags": []
          },
          "execution_count": 32
        }
      ]
    },
    {
      "cell_type": "code",
      "metadata": {
        "id": "czbf323RhXUM",
        "colab_type": "code",
        "colab": {}
      },
      "source": [
        "summary = data.describe(include='all')"
      ],
      "execution_count": 0,
      "outputs": []
    },
    {
      "cell_type": "code",
      "metadata": {
        "id": "BzdIlFMmhZ1o",
        "colab_type": "code",
        "colab": {
          "base_uri": "https://localhost:8080/",
          "height": 390
        },
        "outputId": "379a0f85-9888-4bf4-a751-774982261a49"
      },
      "source": [
        "print('Descriptive Statistics')\n",
        "summary"
      ],
      "execution_count": 46,
      "outputs": [
        {
          "output_type": "stream",
          "text": [
            "Descriptive Statistics\n"
          ],
          "name": "stdout"
        },
        {
          "output_type": "execute_result",
          "data": {
            "text/html": [
              "<div>\n",
              "<style scoped>\n",
              "    .dataframe tbody tr th:only-of-type {\n",
              "        vertical-align: middle;\n",
              "    }\n",
              "\n",
              "    .dataframe tbody tr th {\n",
              "        vertical-align: top;\n",
              "    }\n",
              "\n",
              "    .dataframe thead th {\n",
              "        text-align: right;\n",
              "    }\n",
              "</style>\n",
              "<table border=\"1\" class=\"dataframe\">\n",
              "  <thead>\n",
              "    <tr style=\"text-align: right;\">\n",
              "      <th></th>\n",
              "      <th>Date</th>\n",
              "      <th>Supplier</th>\n",
              "      <th>Description</th>\n",
              "      <th>Transaction value</th>\n",
              "    </tr>\n",
              "  </thead>\n",
              "  <tbody>\n",
              "    <tr>\n",
              "      <th>count</th>\n",
              "      <td>204</td>\n",
              "      <td>204</td>\n",
              "      <td>204</td>\n",
              "      <td>2.040000e+02</td>\n",
              "    </tr>\n",
              "    <tr>\n",
              "      <th>unique</th>\n",
              "      <td>116</td>\n",
              "      <td>55</td>\n",
              "      <td>45</td>\n",
              "      <td>NaN</td>\n",
              "    </tr>\n",
              "    <tr>\n",
              "      <th>top</th>\n",
              "      <td>31/03/2017</td>\n",
              "      <td>ECG Facilities Service</td>\n",
              "      <td>Facilities Management Charge</td>\n",
              "      <td>NaN</td>\n",
              "    </tr>\n",
              "    <tr>\n",
              "      <th>freq</th>\n",
              "      <td>7</td>\n",
              "      <td>52</td>\n",
              "      <td>42</td>\n",
              "      <td>NaN</td>\n",
              "    </tr>\n",
              "    <tr>\n",
              "      <th>mean</th>\n",
              "      <td>NaN</td>\n",
              "      <td>NaN</td>\n",
              "      <td>NaN</td>\n",
              "      <td>9.832213e+04</td>\n",
              "    </tr>\n",
              "    <tr>\n",
              "      <th>std</th>\n",
              "      <td>NaN</td>\n",
              "      <td>NaN</td>\n",
              "      <td>NaN</td>\n",
              "      <td>2.702641e+05</td>\n",
              "    </tr>\n",
              "    <tr>\n",
              "      <th>min</th>\n",
              "      <td>NaN</td>\n",
              "      <td>NaN</td>\n",
              "      <td>NaN</td>\n",
              "      <td>2.502500e+04</td>\n",
              "    </tr>\n",
              "    <tr>\n",
              "      <th>25%</th>\n",
              "      <td>NaN</td>\n",
              "      <td>NaN</td>\n",
              "      <td>NaN</td>\n",
              "      <td>3.315382e+04</td>\n",
              "    </tr>\n",
              "    <tr>\n",
              "      <th>50%</th>\n",
              "      <td>NaN</td>\n",
              "      <td>NaN</td>\n",
              "      <td>NaN</td>\n",
              "      <td>4.227200e+04</td>\n",
              "    </tr>\n",
              "    <tr>\n",
              "      <th>75%</th>\n",
              "      <td>NaN</td>\n",
              "      <td>NaN</td>\n",
              "      <td>NaN</td>\n",
              "      <td>8.392200e+04</td>\n",
              "    </tr>\n",
              "    <tr>\n",
              "      <th>max</th>\n",
              "      <td>NaN</td>\n",
              "      <td>NaN</td>\n",
              "      <td>NaN</td>\n",
              "      <td>3.422500e+06</td>\n",
              "    </tr>\n",
              "  </tbody>\n",
              "</table>\n",
              "</div>"
            ],
            "text/plain": [
              "              Date  ... Transaction value\n",
              "count          204  ...      2.040000e+02\n",
              "unique         116  ...               NaN\n",
              "top     31/03/2017  ...               NaN\n",
              "freq             7  ...               NaN\n",
              "mean           NaN  ...      9.832213e+04\n",
              "std            NaN  ...      2.702641e+05\n",
              "min            NaN  ...      2.502500e+04\n",
              "25%            NaN  ...      3.315382e+04\n",
              "50%            NaN  ...      4.227200e+04\n",
              "75%            NaN  ...      8.392200e+04\n",
              "max            NaN  ...      3.422500e+06\n",
              "\n",
              "[11 rows x 4 columns]"
            ]
          },
          "metadata": {
            "tags": []
          },
          "execution_count": 46
        }
      ]
    },
    {
      "cell_type": "code",
      "metadata": {
        "id": "g9psZUD3Unw2",
        "colab_type": "code",
        "colab": {
          "base_uri": "https://localhost:8080/",
          "height": 706
        },
        "outputId": "5ed2eccf-ba6a-4bb5-ab89-9c3a34148969"
      },
      "source": [
        "import pandas as pd\n",
        "import numpy as np\n",
        "from matplotlib import pyplot as plt\n",
        "import matplotlib.ticker as ticker\n",
        "from matplotlib.animation import FuncAnimation\n",
        "from collections import Counter\n",
        "from datetime import datetime\n",
        "\n",
        "\n",
        "#gives the frequency of all suppliers from the data\n",
        "def supplier_freq(data):\n",
        "    #gets the suppliers from the data\n",
        "    suppliers = [entry[summary_column] for entry in data]\n",
        "    #uses the counter library to create a dictionary of the suppliers and number of times used\n",
        "    count = dict(zip(Counter(suppliers).keys(),Counter(suppliers).values()))\n",
        "    #sorts the count dictionary from smallest to largest\n",
        "    count = {k: v for k, v in sorted(count.items(), key=lambda item: item[1],reverse=True)}\n",
        "    return count\n",
        "\n",
        "def cum_spend_per_date(_dict,supplier,dates):\n",
        "    spending = {date:0 for date in dates}\n",
        "    for sup in _dict[supplier]:\n",
        "        spending[sup[\"Date\"]] = sup[\"Transaction value (Â£)\"]\n",
        "    cum_spend=list(np.cumsum(list(spending.values())))\n",
        "    spending = {list(spending.keys())[i]:cum_spend[i] for i in range(0,len(cum_spend))}\n",
        "    return spending          \n",
        "\n",
        "\n",
        "\n",
        "def main():\n",
        "    data = pd.read_csv(transactions_filename,usecols = input_columns_list)\n",
        "    print(data.head(5))\n",
        "    data[\"Date\"] = [datetime.strptime(date, '%d/%m/%Y') for date in data[\"Date\"]]\n",
        "    dates = data[\"Date\"]\n",
        "    cummulative_column='Cummulative'\n",
        "    total_cummulative_column='Total transactions value (£)'\n",
        "    #dates.drop_duplicates(inplace=True)\n",
        "    suppliers = list(data[summary_column].drop_duplicates())\n",
        "  \n",
        "    frames=[]\n",
        "    for supplier in suppliers:\n",
        "        sup_data = data[data[summary_column].eq(supplier)]\n",
        "        cum=sup_data['Transaction value'].cumsum()\n",
        "        sup_data[cummulative_column] = cum\n",
        "        df = pd.DataFrame({summary_column:[supplier]*len(dates),'Date':dates,cummulative_column: sup_data[dates.eq(sup_data['Date'])][\"Cummulative\"]})\n",
        "        df.fillna(method='ffill',inplace=True)\n",
        "        df.fillna(value=0,inplace=True)\n",
        "        frames.append(df)\n",
        "    cum_data = pd.DataFrame(pd.concat(frames)).reset_index(drop=True)\n",
        "    def draw_barchart(date):\n",
        "        dff = cum_data[cum_data['Date'].eq(date)].sort_values(by=cummulative_column, ascending=True).tail(10)\n",
        "        ax.clear()\n",
        "        ax.barh(dff[summary_column], dff[cummulative_column])\n",
        "        dx = dff[cummulative_column].max() / 200\n",
        "        for i, (value, name) in enumerate(zip(dff[cummulative_column], dff[summary_column])):\n",
        "            ax.text(value-dx, i,     name,           size=14, weight=600, ha='right', va='bottom')\n",
        "            ax.text(value+dx, i,     f'{value:,.0f}',  size=14, ha='left',  va='center')\n",
        "        # ... polished styles\n",
        "        ax.text(1, 0.4, date, transform=ax.transAxes, color='#777777', size=46, ha='right', weight=800)\n",
        "        ax.text(0, 1.06, 'Total transactions value (£)', transform=ax.transAxes, size=12, color='#777777')\n",
        "        ax.xaxis.set_major_formatter(ticker.StrMethodFormatter('{x:,.0f}'))\n",
        "        ax.xaxis.set_ticks_position('top')\n",
        "        ax.tick_params(axis='x', colors='#777777', labelsize=12)\n",
        "        ax.set_yticks([])\n",
        "        ax.margins(0, 0.01)\n",
        "        ax.grid(which='major', axis='x', linestyle='-')\n",
        "        ax.set_axisbelow(True)\n",
        "        ax.text(0, 1.12, form_title,\n",
        "                transform=ax.transAxes, size=24, weight=600, ha='left')\n",
        "        plt.box(False)\n",
        "    fig, ax = plt.subplots(figsize=(15, 8))\n",
        "    animator = FuncAnimation(fig, draw_barchart, frames=dates)\n",
        "    plt.show()\n",
        "\n",
        "\n",
        "main()"
      ],
      "execution_count": 39,
      "outputs": [
        {
          "output_type": "stream",
          "text": [
            "         Date                   Supplier  Transaction value\n",
            "0  21/04/2016       M & J Ballantyne Ltd            35098.0\n",
            "1  26/04/2016               Private Sale            30000.0\n",
            "2  30/04/2016  City Of Edinburgh Council            40800.0\n",
            "3  09/05/2016              A McGillivray            53690.0\n",
            "4  09/05/2016           Computacenter Uk            72835.0\n"
          ],
          "name": "stdout"
        },
        {
          "output_type": "stream",
          "text": [
            "/usr/local/lib/python3.6/dist-packages/ipykernel_launcher.py:44: SettingWithCopyWarning: \n",
            "A value is trying to be set on a copy of a slice from a DataFrame.\n",
            "Try using .loc[row_indexer,col_indexer] = value instead\n",
            "\n",
            "See the caveats in the documentation: https://pandas.pydata.org/pandas-docs/stable/user_guide/indexing.html#returning-a-view-versus-a-copy\n",
            "/usr/local/lib/python3.6/dist-packages/ipykernel_launcher.py:45: UserWarning: Boolean Series key will be reindexed to match DataFrame index.\n"
          ],
          "name": "stderr"
        },
        {
          "output_type": "display_data",
          "data": {
            "image/png": "[encoded data removed]",
            "text/plain": [
              "<Figure size 1080x576 with 1 Axes>"
            ]
          },
          "metadata": {
            "tags": [],
            "needs_background": "light"
          }
        }
      ]
    }
  ]
}